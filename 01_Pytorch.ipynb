{
  "nbformat": 4,
  "nbformat_minor": 0,
  "metadata": {
    "colab": {
      "name": "01_Pytorch",
      "provenance": [],
      "collapsed_sections": [],
      "include_colab_link": true
    },
    "kernelspec": {
      "name": "python3",
      "display_name": "Python 3"
    },
    "language_info": {
      "name": "python"
    }
  },
  "cells": [
    {
      "cell_type": "markdown",
      "metadata": {
        "id": "view-in-github",
        "colab_type": "text"
      },
      "source": [
        "<a href=\"https://colab.research.google.com/github/unknown-shot/Pytorch-30-days/blob/main/01_Pytorch.ipynb\" target=\"_parent\"><img src=\"https://colab.research.google.com/assets/colab-badge.svg\" alt=\"Open In Colab\"/></a>"
      ]
    },
    {
      "cell_type": "markdown",
      "metadata": {
        "id": "yhoJ0bptLQnl"
      },
      "source": [
        "From Resources :\n",
        "\n",
        "- https://www.youtube.com/watch?v=bQ1SfS4urEA&list=PLmp4AHm0u1g30Sk_9ftX-FMKX5e6x9TBr"
      ]
    },
    {
      "cell_type": "markdown",
      "metadata": {
        "id": "fYcNj-d4Gq9R"
      },
      "source": [
        "fundamental data structures that we used to hold data that we operate on using pytorch are tensors\n",
        "\n",
        "wait what are tensors ?\n",
        "\n",
        "tenors are multidimensional arrays "
      ]
    },
    {
      "cell_type": "code",
      "metadata": {
        "colab": {
          "base_uri": "https://localhost:8080/",
          "height": 35
        },
        "id": "oxyVb62ho_d4",
        "outputId": "49f69c2b-cab0-431e-8f8c-6978613019e0"
      },
      "source": [
        "import torch\n",
        "torch.__version__"
      ],
      "execution_count": null,
      "outputs": [
        {
          "output_type": "execute_result",
          "data": {
            "application/vnd.google.colaboratory.intrinsic+json": {
              "type": "string"
            },
            "text/plain": [
              "'1.8.1+cu101'"
            ]
          },
          "metadata": {
            "tags": []
          },
          "execution_count": 1
        }
      ]
    },
    {
      "cell_type": "code",
      "metadata": {
        "colab": {
          "base_uri": "https://localhost:8080/"
        },
        "id": "nVfGxSQBKQ2f",
        "outputId": "89f405d1-33ff-4bbc-c663-af9d5e563e90"
      },
      "source": [
        "# by default the data type that pytorch assumes your data is represented in is torch.float32\n",
        "torch.get_default_dtype()"
      ],
      "execution_count": null,
      "outputs": [
        {
          "output_type": "execute_result",
          "data": {
            "text/plain": [
              "torch.float32"
            ]
          },
          "metadata": {
            "tags": []
          },
          "execution_count": 2
        }
      ]
    },
    {
      "cell_type": "markdown",
      "metadata": {
        "id": "LtRqlsS8LMGS"
      },
      "source": [
        "> lets say we want our tensors to be created with a different default type"
      ]
    },
    {
      "cell_type": "code",
      "metadata": {
        "colab": {
          "base_uri": "https://localhost:8080/",
          "height": 299
        },
        "id": "_D9BA1n3LZW1",
        "outputId": "f7b7ec89-5a11-40af-d439-add3c9d8950b"
      },
      "source": [
        "torch.set_default_dtype(torch.int)\n",
        "torch.get_default_dtype()"
      ],
      "execution_count": null,
      "outputs": [
        {
          "output_type": "error",
          "ename": "TypeError",
          "evalue": "ignored",
          "traceback": [
            "\u001b[0;31m---------------------------------------------------------------------------\u001b[0m",
            "\u001b[0;31mTypeError\u001b[0m                                 Traceback (most recent call last)",
            "\u001b[0;32m<ipython-input-3-d878204a76c2>\u001b[0m in \u001b[0;36m<module>\u001b[0;34m()\u001b[0m\n\u001b[0;32m----> 1\u001b[0;31m \u001b[0mtorch\u001b[0m\u001b[0;34m.\u001b[0m\u001b[0mset_default_dtype\u001b[0m\u001b[0;34m(\u001b[0m\u001b[0mtorch\u001b[0m\u001b[0;34m.\u001b[0m\u001b[0mint\u001b[0m\u001b[0;34m)\u001b[0m\u001b[0;34m\u001b[0m\u001b[0;34m\u001b[0m\u001b[0m\n\u001b[0m\u001b[1;32m      2\u001b[0m \u001b[0mtorch\u001b[0m\u001b[0;34m.\u001b[0m\u001b[0mget_default_dtype\u001b[0m\u001b[0;34m(\u001b[0m\u001b[0;34m)\u001b[0m\u001b[0;34m\u001b[0m\u001b[0;34m\u001b[0m\u001b[0m\n",
            "\u001b[0;32m/usr/local/lib/python3.7/dist-packages/torch/__init__.py\u001b[0m in \u001b[0;36mset_default_dtype\u001b[0;34m(d)\u001b[0m\n\u001b[1;32m    330\u001b[0m \u001b[0;34m\u001b[0m\u001b[0m\n\u001b[1;32m    331\u001b[0m     \"\"\"\n\u001b[0;32m--> 332\u001b[0;31m     \u001b[0m_C\u001b[0m\u001b[0;34m.\u001b[0m\u001b[0m_set_default_dtype\u001b[0m\u001b[0;34m(\u001b[0m\u001b[0md\u001b[0m\u001b[0;34m)\u001b[0m\u001b[0;34m\u001b[0m\u001b[0;34m\u001b[0m\u001b[0m\n\u001b[0m\u001b[1;32m    333\u001b[0m \u001b[0;34m\u001b[0m\u001b[0m\n\u001b[1;32m    334\u001b[0m \u001b[0;32mdef\u001b[0m \u001b[0muse_deterministic_algorithms\u001b[0m\u001b[0;34m(\u001b[0m\u001b[0md\u001b[0m\u001b[0;34m)\u001b[0m\u001b[0;34m:\u001b[0m\u001b[0;34m\u001b[0m\u001b[0;34m\u001b[0m\u001b[0m\n",
            "\u001b[0;31mTypeError\u001b[0m: only floating-point types are supported as the default type"
          ]
        }
      ]
    },
    {
      "cell_type": "markdown",
      "metadata": {
        "id": "o5yL03ScLsrs"
      },
      "source": [
        "we got an error !\n",
        "\n",
        "when we are working in building neural networks and on machine learning models we typically work with floating points which is why *only floating point types* are suppported as default dtype in pytorch . we can change to float64 "
      ]
    },
    {
      "cell_type": "code",
      "metadata": {
        "colab": {
          "base_uri": "https://localhost:8080/"
        },
        "id": "bI7ochjPLsQw",
        "outputId": "34cdbaa1-365e-45c1-e0d1-bcf6858175dc"
      },
      "source": [
        "torch.set_default_dtype(torch.float64)\n",
        "torch.get_default_dtype()"
      ],
      "execution_count": null,
      "outputs": [
        {
          "output_type": "execute_result",
          "data": {
            "text/plain": [
              "torch.float64"
            ]
          },
          "metadata": {
            "tags": []
          },
          "execution_count": 4
        }
      ]
    },
    {
      "cell_type": "markdown",
      "metadata": {
        "id": "6ybttvVGMZEG"
      },
      "source": [
        "see this page [A list of all Tensor types supported by pytorch](https://pytorch.org/docs/stable/tensors.html) "
      ]
    },
    {
      "cell_type": "code",
      "metadata": {
        "colab": {
          "base_uri": "https://localhost:8080/"
        },
        "id": "HsdGJXb-tJdV",
        "outputId": "d11489ac-e631-4e9e-b14c-59e821f4f469"
      },
      "source": [
        "list_1 = [1.0 ,2.5 ,8.4 ,9.5]\n",
        "list_1[2]"
      ],
      "execution_count": null,
      "outputs": [
        {
          "output_type": "execute_result",
          "data": {
            "text/plain": [
              "8.4"
            ]
          },
          "metadata": {
            "tags": []
          },
          "execution_count": 5
        }
      ]
    },
    {
      "cell_type": "code",
      "metadata": {
        "colab": {
          "base_uri": "https://localhost:8080/"
        },
        "id": "hR_kcKcltVCC",
        "outputId": "b5ad3cba-5861-4680-9a22-8d99dcd98ae6"
      },
      "source": [
        "tensor_1 = torch.rand([2,3,4])\n",
        "tensor_1"
      ],
      "execution_count": null,
      "outputs": [
        {
          "output_type": "execute_result",
          "data": {
            "text/plain": [
              "tensor([[[0.2621, 0.3937, 0.0031, 0.9344],\n",
              "         [0.1719, 0.5858, 0.5375, 0.0040],\n",
              "         [0.6518, 0.2793, 0.2281, 0.5322]],\n",
              "\n",
              "        [[0.4793, 0.3545, 0.5726, 0.2871],\n",
              "         [0.5486, 0.9611, 0.6022, 0.4599],\n",
              "         [0.7968, 0.1879, 0.7652, 0.5077]]])"
            ]
          },
          "metadata": {
            "tags": []
          },
          "execution_count": 6
        }
      ]
    },
    {
      "cell_type": "code",
      "metadata": {
        "colab": {
          "base_uri": "https://localhost:8080/"
        },
        "id": "yrU9jvYAtsxL",
        "outputId": "b15eaad8-40d8-4b35-90b2-a66c1faba47f"
      },
      "source": [
        "tensor_1[:,1,0:2]"
      ],
      "execution_count": null,
      "outputs": [
        {
          "output_type": "execute_result",
          "data": {
            "text/plain": [
              "tensor([[0.1719, 0.5858],\n",
              "        [0.5486, 0.9611]])"
            ]
          },
          "metadata": {
            "tags": []
          },
          "execution_count": 7
        }
      ]
    },
    {
      "cell_type": "markdown",
      "metadata": {
        "id": "bWWOZVljCouT"
      },
      "source": [
        "## Initializing a Tensor"
      ]
    },
    {
      "cell_type": "code",
      "metadata": {
        "id": "vqmfHIu9Cm9P"
      },
      "source": [
        "# from data\n",
        "\n",
        "data = [\n",
        "        [\n",
        "         [1,2,3],\n",
        "         [2,3,4]\n",
        "         ],\n",
        "        [\n",
        "         [6,4,2],\n",
        "         [4,3,7]\n",
        "        ]\n",
        "]\n",
        "\n"
      ],
      "execution_count": null,
      "outputs": []
    },
    {
      "cell_type": "code",
      "metadata": {
        "id": "OxoQzpSREk7o"
      },
      "source": [
        ""
      ],
      "execution_count": null,
      "outputs": []
    },
    {
      "cell_type": "markdown",
      "metadata": {
        "id": "k8QARB81EmTo"
      },
      "source": [
        "# Most commmon Types of Tensors "
      ]
    },
    {
      "cell_type": "code",
      "metadata": {
        "colab": {
          "base_uri": "https://localhost:8080/"
        },
        "id": "WyJZaQMcEkoD",
        "outputId": "a9ab25fa-216e-4e98-d451-436a03a50e3b"
      },
      "source": [
        "# data types\n",
        "# 32bit floating point\n",
        "data = torch.FloatTensor([2,4,6])\n",
        "data"
      ],
      "execution_count": null,
      "outputs": [
        {
          "output_type": "execute_result",
          "data": {
            "text/plain": [
              "tensor([2., 4., 6.], dtype=torch.float32)"
            ]
          },
          "metadata": {
            "tags": []
          },
          "execution_count": 9
        }
      ]
    },
    {
      "cell_type": "code",
      "metadata": {
        "colab": {
          "base_uri": "https://localhost:8080/"
        },
        "id": "Hl7TIuBOFeYT",
        "outputId": "99b895f2-0898-484a-c9c2-51b48fd0943d"
      },
      "source": [
        "# torch.Tensor is An alias for the default tensor type generally default is torch.FloatTensor() but here we changed it as we can see adove\n",
        "data = torch.Tensor([2,4,5])\n",
        "data\n"
      ],
      "execution_count": null,
      "outputs": [
        {
          "output_type": "execute_result",
          "data": {
            "text/plain": [
              "tensor([2., 4., 5.])"
            ]
          },
          "metadata": {
            "tags": []
          },
          "execution_count": 10
        }
      ]
    },
    {
      "cell_type": "code",
      "metadata": {
        "colab": {
          "base_uri": "https://localhost:8080/",
          "height": 35
        },
        "id": "0BZd1p5TNiz_",
        "outputId": "d6fe4dcd-b14c-4657-f72e-bcfaa8c2fc81"
      },
      "source": [
        "# as we set the default data type to be torch.float64 , so that will be the type of the tensor that will be created\n",
        "data.type()"
      ],
      "execution_count": null,
      "outputs": [
        {
          "output_type": "execute_result",
          "data": {
            "application/vnd.google.colaboratory.intrinsic+json": {
              "type": "string"
            },
            "text/plain": [
              "'torch.DoubleTensor'"
            ]
          },
          "metadata": {
            "tags": []
          },
          "execution_count": 11
        }
      ]
    },
    {
      "cell_type": "code",
      "metadata": {
        "colab": {
          "base_uri": "https://localhost:8080/"
        },
        "id": "cvhH4gZoPK4l",
        "outputId": "61a40e75-b480-4442-89df-f3ca77a5748b"
      },
      "source": [
        "# numel returns the totla no.of elements in the input tensor\n",
        "torch.numel(data)"
      ],
      "execution_count": null,
      "outputs": [
        {
          "output_type": "execute_result",
          "data": {
            "text/plain": [
              "3"
            ]
          },
          "metadata": {
            "tags": []
          },
          "execution_count": 12
        }
      ]
    },
    {
      "cell_type": "code",
      "metadata": {
        "id": "HJ8K-d2iPB1V",
        "colab": {
          "base_uri": "https://localhost:8080/"
        },
        "outputId": "1ca7655b-6c05-4aa6-be74-b834c5ea29e4"
      },
      "source": [
        "tensor_uninitialized = torch.Tensor(2,3,4)\n",
        "tensor_uninitialized"
      ],
      "execution_count": null,
      "outputs": [
        {
          "output_type": "execute_result",
          "data": {
            "text/plain": [
              "tensor([[[4.6810e-310,  0.0000e+00, 4.9407e-324,  0.0000e+00],\n",
              "         [ 0.0000e+00,  0.0000e+00, 4.6810e-310,  0.0000e+00],\n",
              "         [ 0.0000e+00,  0.0000e+00,  0.0000e+00,  0.0000e+00]],\n",
              "\n",
              "        [[ 0.0000e+00,  0.0000e+00, 4.9407e-324,  0.0000e+00],\n",
              "         [ 0.0000e+00,  0.0000e+00,  0.0000e+00,  0.0000e+00],\n",
              "         [4.9407e-324, 5.4111e-312, 2.1220e-314, 1.0119e-319]]])"
            ]
          },
          "metadata": {
            "tags": []
          },
          "execution_count": 13
        }
      ]
    },
    {
      "cell_type": "markdown",
      "metadata": {
        "id": "9ejaa09Jg1nN"
      },
      "source": [
        "when we specify torch.tensor and we only indicate the share of the tensor , the resulting tensor object will be uninitialized i.e behind scenes it allocate memory for this tensor "
      ]
    },
    {
      "cell_type": "markdown",
      "metadata": {
        "id": "WaeP22ImhZ-H"
      },
      "source": [
        "there are some handy functions in pytorch"
      ]
    },
    {
      "cell_type": "code",
      "metadata": {
        "colab": {
          "base_uri": "https://localhost:8080/"
        },
        "id": "AG03SixFhVjX",
        "outputId": "1a61ac6d-065c-4344-87c9-706430ed7fa7"
      },
      "source": [
        "# this the quick and easy way to initialize the weights of your model parameters\n",
        "tensor_initialized = torch.rand(2,3)\n",
        "tensor_initialized"
      ],
      "execution_count": null,
      "outputs": [
        {
          "output_type": "execute_result",
          "data": {
            "text/plain": [
              "tensor([[0.3971, 0.3544, 0.1847],\n",
              "        [0.2342, 0.8532, 0.6372]])"
            ]
          },
          "metadata": {
            "tags": []
          },
          "execution_count": 14
        }
      ]
    },
    {
      "cell_type": "markdown",
      "metadata": {
        "id": "hWHDWcNqh-nn"
      },
      "source": [
        "lets say we want to create tensor with another dtype\n",
        "\n",
        "\n",
        "```\n",
        "torch.tensor().type(torch.IntTensor)\n",
        "```\n"
      ]
    },
    {
      "cell_type": "code",
      "metadata": {
        "id": "aD5lNq5Uh92h"
      },
      "source": [
        ""
      ],
      "execution_count": null,
      "outputs": []
    }
  ]
}